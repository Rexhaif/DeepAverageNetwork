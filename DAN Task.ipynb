{
 "cells": [
  {
   "cell_type": "code",
   "execution_count": 45,
   "metadata": {},
   "outputs": [],
   "source": [
    "from typing import Dict, List\n",
    "\n",
    "import matplotlib.pyplot as plt\n",
    "%matplotlib inline\n",
    "import numpy as np\n",
    "import pandas as pd\n",
    "import seaborn as sns\n",
    "import torch\n",
    "\n",
    "from datasets import load_dataset\n",
    "from nltk.tokenize import ToktokTokenizer, TweetTokenizer\n",
    "from sklearn.metrics import f1_score, recall_score, classification_report, ConfusionMatrixDisplay\n",
    "from torch import nn\n",
    "from torch.utils.data import DataLoader\n",
    "from tqdm.auto import tqdm"
   ]
  },
  {
   "cell_type": "code",
   "execution_count": 41,
   "metadata": {},
   "outputs": [
    {
     "name": "stdout",
     "output_type": "stream",
     "text": [
      "\n",
      "10/26 20:24:07 [\u001b[1;32mNOTICE\u001b[0m] Downloading 1 item(s)\n",
      "\u001b[35m[\u001b[0m#ddf9ed 1.2GiB/1.2GiB\u001b[36m(99%)\u001b[0m CN:2 DL:\u001b[32m30MiB\u001b[0m\u001b[35m]\u001b[0m\u001b[0m0m\u001b[35m]\u001b[0m\u001b[0mmmm\n",
      "10/26 20:24:38 [\u001b[1;32mNOTICE\u001b[0m] Download complete: /workspace/notebooks/DeepAverageNetwork/cc.en.300.vec.gz\n",
      "\n",
      "Download Results:\n",
      "gid   |stat|avg speed  |path/URI\n",
      "======+====+===========+=======================================================\n",
      "ddf9ed|\u001b[1;32mOK\u001b[0m  |    41MiB/s|/workspace/notebooks/DeepAverageNetwork/cc.en.300.vec.gz\n",
      "\n",
      "Status Legend:\n",
      "(OK):download completed.\n"
     ]
    }
   ],
   "source": [
    "## Раскомментируйте и скачайте эмбеддинги\n",
    "# aria2c is just faster than wget because it uses multiple threads\n",
    "!aria2c -x 16 -j 16 -s 16 https://dl.fbaipublicfiles.com/fasttext/vectors-crawl/cc.en.300.vec.gz\n",
    "!gzip -d cc.en.300.vec.gz"
   ]
  },
  {
   "cell_type": "code",
   "execution_count": 2,
   "metadata": {},
   "outputs": [],
   "source": [
    "def load_embeddings(path: str, num_tokens=100_000):\n",
    "    \n",
    "    pad_token = \"<PAD>\"\n",
    "    unk_token = \"<UNK>\"\n",
    "\n",
    "    vocab: Dict[str, int] = dict()\n",
    "    embeddings = list()\n",
    "\n",
    "    with open(path) as f:\n",
    "\n",
    "        vocab_size, embedding_dim = f.readline().strip().split()\n",
    "\n",
    "        vocab_size = int(vocab_size)\n",
    "        embedding_dim = int(embedding_dim)\n",
    "\n",
    "        max_words = vocab_size if num_tokens <= 0 else num_tokens+2\n",
    "\n",
    "        vocab[pad_token] = 0\n",
    "        embeddings.append(np.zeros(embedding_dim))\n",
    "\n",
    "        vocab[unk_token] = 1\n",
    "        embeddings.append(np.ones(embedding_dim))\n",
    "\n",
    "        progress_bar = tqdm(total=max_words-2, desc='Reading embeddings file')\n",
    "\n",
    "        for line in f:\n",
    "            parts = line.strip().split()\n",
    "\n",
    "            token = ' '.join(parts[:-embedding_dim]).lower()\n",
    "\n",
    "            if token in vocab:\n",
    "                continue\n",
    "\n",
    "            word_vector = np.array(list(map(float, parts[-embedding_dim:])))\n",
    "\n",
    "            vocab[token] = len(vocab)\n",
    "            embeddings.append(word_vector)\n",
    "\n",
    "            progress_bar.update()\n",
    "\n",
    "            if len(vocab) == max_words:\n",
    "                break\n",
    "\n",
    "        progress_bar.close()\n",
    "\n",
    "    embeddings = np.stack(embeddings)\n",
    "    \n",
    "    return vocab, embeddings\n",
    "    \n",
    "    assert(len(vocab) == embeddings.shape[0])\n",
    "    \n",
    "    return vocab, embeddings"
   ]
  },
  {
   "cell_type": "markdown",
   "metadata": {},
   "source": [
    "## Загружаем данные из библиотеки\n",
    "Мы сразу получим `torch.utils.data.Dataset`, который сможем передать в `torch.utils.data.DataLoader`"
   ]
  },
  {
   "cell_type": "code",
   "execution_count": 3,
   "metadata": {},
   "outputs": [
    {
     "name": "stderr",
     "output_type": "stream",
     "text": [
      "Reusing dataset tweet_eval (/root/.cache/huggingface/datasets/tweet_eval/sentiment/1.1.0/12aee5282b8784f3e95459466db4cdf45c6bf49719c25cdb0743d71ed0410343)\n",
      "Reusing dataset tweet_eval (/root/.cache/huggingface/datasets/tweet_eval/sentiment/1.1.0/12aee5282b8784f3e95459466db4cdf45c6bf49719c25cdb0743d71ed0410343)\n",
      "Reusing dataset tweet_eval (/root/.cache/huggingface/datasets/tweet_eval/sentiment/1.1.0/12aee5282b8784f3e95459466db4cdf45c6bf49719c25cdb0743d71ed0410343)\n"
     ]
    }
   ],
   "source": [
    "dataset_path = \"tweet_eval\"\n",
    "dataset_name = \"sentiment\"\n",
    "\n",
    "train_dataset = load_dataset(path=dataset_path, name=dataset_name, split=\"train\")\n",
    "valid_dataset = load_dataset(path=dataset_path, name=dataset_name, split=\"validation\")\n",
    "test_dataset = load_dataset(path=dataset_path, name=dataset_name, split=\"test\")"
   ]
  },
  {
   "cell_type": "code",
   "execution_count": 23,
   "metadata": {},
   "outputs": [],
   "source": [
    "class Tokenizer:\n",
    "    \n",
    "    def __init__(self, base_tokenizer, token2index, pad_token, unk_token, max_length):\n",
    "        \n",
    "        self._base_tokenizer = base_tokenizer  # например ToktokTokenizer()\n",
    "        \n",
    "        self.token2index = token2index  # словарь из load_embeddings()\n",
    "        \n",
    "        self.pad_token = pad_token\n",
    "        self.pad_index = self.token2index[self.pad_token]\n",
    "        \n",
    "        self.unk_token = unk_token\n",
    "        self.unk_index = self.token2index[self.unk_token]\n",
    "        \n",
    "        self.max_length = max_length\n",
    "\n",
    "    def tokenize(self, text):\n",
    "        \"\"\"\n",
    "        В этом методе нужно разделить строку текста на токены\n",
    "        \"\"\"\n",
    "        return self._base_tokenizer.tokenize(text)\n",
    "    \n",
    "    def indexing(self, tokenized_text):\n",
    "        \"\"\"\n",
    "        В этом методе нужно перевести список токенов в список с индексами этих токенов\n",
    "        \"\"\"\n",
    "        indexes = []\n",
    "        for token in tokenized_text:\n",
    "            if token in self.token2index:\n",
    "                indexes.append(self.token2index[token])\n",
    "            else:\n",
    "                indexes.append(self.unk_index)\n",
    "        return indexes\n",
    "        \n",
    "    def padding(self, tokens_indices):\n",
    "        \"\"\"\n",
    "        В этом методе нужно сделать длину tokens_indices равной self.max_length\n",
    "        Опционально убрать повторяющиеся unk'и\n",
    "        \"\"\"\n",
    "        padded_indexes = [self.pad_index] * self.max_length\n",
    "        unpadded_indexes = tokens_indices if len(tokens_indices) <= self.max_length else tokens_indices[:self.max_length]\n",
    "        for i, idx in enumerate(unpadded_indexes):\n",
    "            padded_indexes[i] = idx\n",
    "            \n",
    "        return padded_indexes\n",
    "    \n",
    "    def __call__(self, text):\n",
    "        \"\"\"\n",
    "        В этом методе нужно перевести строку с текстом в вектор с индексами слов нужно размера (self.max_length)\n",
    "        \"\"\"\n",
    "        return self.padding(self.indexing(self.tokenize(text)))\n",
    "        \n",
    "    def collate(self, batch):\n",
    "        \n",
    "        tokenized_texts = list()\n",
    "        labels = list()\n",
    "        \n",
    "        for sample in batch:\n",
    "            tokenized_texts.append(self(sample['text']))\n",
    "            labels.append(sample['label'])\n",
    "            \n",
    "        tokenized_texts = torch.LongTensor(tokenized_texts)  # перевод в torch.Tensor\n",
    "        labels = torch.LongTensor(labels)  # перевод в torch.Tensor\n",
    "        \n",
    "        return tokenized_texts, labels"
   ]
  },
  {
   "cell_type": "code",
   "execution_count": 24,
   "metadata": {},
   "outputs": [
    {
     "data": {
      "application/vnd.jupyter.widget-view+json": {
       "model_id": "6d59165f2ffd43bbbb3e2673d5c38204",
       "version_major": 2,
       "version_minor": 0
      },
      "text/plain": [
       "Reading embeddings file:   0%|          | 0/500000 [00:00<?, ?it/s]"
      ]
     },
     "metadata": {},
     "output_type": "display_data"
    }
   ],
   "source": [
    "token2index, embeddings = load_embeddings(\"cc.en.300.vec\", 500000)\n",
    "base_tokenizer = TweetTokenizer(reduce_len=True)\n",
    "tokenizer = Tokenizer(base_tokenizer, token2index, \"<PAD>\", \"<UNK>\", 128)\n",
    "train_loader = DataLoader(train_dataset, batch_size=128, shuffle=True, collate_fn=tokenizer.collate)\n",
    "valid_loader = DataLoader(valid_dataset, batch_size=128, shuffle=False, collate_fn=tokenizer.collate)\n",
    "test_loader = DataLoader(test_dataset, batch_size=128, shuffle=False, collate_fn=tokenizer.collate)"
   ]
  },
  {
   "cell_type": "code",
   "execution_count": 9,
   "metadata": {},
   "outputs": [],
   "source": [
    "for x, y in train_loader:\n",
    "    break"
   ]
  },
  {
   "cell_type": "code",
   "execution_count": 10,
   "metadata": {},
   "outputs": [],
   "source": [
    "assert(isinstance(x, torch.Tensor))\n",
    "assert(len(x.size()) == 2)\n",
    "\n",
    "assert(isinstance(y, torch.Tensor))\n",
    "assert(len(y.size()) == 1)"
   ]
  },
  {
   "cell_type": "markdown",
   "metadata": {},
   "source": [
    "# Я выбрал метрику Macro-Recall\n",
    "Почему я выбрал эту метрику:\n",
    "Выбрал эту метрику потому что в статье (https://aclanthology.org/2020.findings-emnlp.148.pdf) она указывается как evaluation метрика для датасета sentiment. Macro-averaging позволит получать более честные показатели качества вне зависимости от наличия или отсутствия дизбаланса классов."
   ]
  },
  {
   "cell_type": "code",
   "execution_count": 53,
   "metadata": {},
   "outputs": [],
   "source": [
    "import torch.nn.functional as F\n",
    "\n",
    "\n",
    "class DeepAverageNetwork(nn.Module):\n",
    "    def __init__(self, embedding_matrix, dropout_prob: float = 0.5):\n",
    "        super().__init__()\n",
    "        self.embeddings = nn.EmbeddingBag.from_pretrained(\n",
    "            embeddings=torch.from_numpy(embedding_matrix).to(torch.float32),\n",
    "            mode='mean',\n",
    "            padding_idx=0,\n",
    "            max_norm=10.0,\n",
    "            freeze=False,\n",
    "        )\n",
    "        \n",
    "        self.linear1 = nn.Linear(in_features=embedding_matrix.shape[1], out_features=256)\n",
    "        self.output = nn.Linear(in_features=256, out_features=3)\n",
    "        self.bn1 = nn.BatchNorm1d(256)\n",
    "        self.drop = nn.Dropout(p=dropout_prob)\n",
    "        \n",
    "    def forward(self, x):\n",
    "        data = self.drop(self.embeddings(x))\n",
    "        \n",
    "        data = self.drop(self.bn1(F.mish(self.linear1(data))))\n",
    "        \n",
    "        \n",
    "        return self.output(data)\n",
    "        "
   ]
  },
  {
   "cell_type": "code",
   "execution_count": 54,
   "metadata": {},
   "outputs": [],
   "source": [
    "model = DeepAverageNetwork(embeddings)"
   ]
  },
  {
   "cell_type": "code",
   "execution_count": 55,
   "metadata": {},
   "outputs": [
    {
     "data": {
      "text/plain": [
       "DeepAverageNetwork(\n",
       "  (embeddings): EmbeddingBag(500002, 300, max_norm=10.0, mode=mean, padding_idx=0)\n",
       "  (linear1): Linear(in_features=300, out_features=256, bias=True)\n",
       "  (output): Linear(in_features=256, out_features=3, bias=True)\n",
       "  (bn1): BatchNorm1d(256, eps=1e-05, momentum=0.1, affine=True, track_running_stats=True)\n",
       "  (drop): Dropout(p=0.5, inplace=False)\n",
       ")"
      ]
     },
     "execution_count": 55,
     "metadata": {},
     "output_type": "execute_result"
    }
   ],
   "source": [
    "device = torch.device(\"cuda:0\")\n",
    "model = model.to(device)\n",
    "model"
   ]
  },
  {
   "cell_type": "markdown",
   "metadata": {},
   "source": [
    "## Задайте функцию потерь и оптимизатор"
   ]
  },
  {
   "cell_type": "code",
   "execution_count": 56,
   "metadata": {},
   "outputs": [],
   "source": [
    "from transformers.optimization import get_cosine_schedule_with_warmup\n",
    "loss = nn.CrossEntropyLoss()\n",
    "optim = torch.optim.Adam(model.parameters(), lr=0.001)"
   ]
  },
  {
   "cell_type": "markdown",
   "metadata": {},
   "source": [
    "## Сделайте цикл обучения"
   ]
  },
  {
   "cell_type": "code",
   "execution_count": 60,
   "metadata": {},
   "outputs": [
    {
     "data": {
      "application/vnd.jupyter.widget-view+json": {
       "model_id": "a735cf29554e4c6d95e1d88467c95cc5",
       "version_major": 2,
       "version_minor": 0
      },
      "text/plain": [
       "Train Epoch 0:   0%|          | 0/357 [00:00<?, ?it/s]"
      ]
     },
     "metadata": {},
     "output_type": "display_data"
    },
    {
     "name": "stdout",
     "output_type": "stream",
     "text": [
      "Macro Recall: 0.7673 | Loss: 0.5750\n",
      "Macro Recall: 0.7527 | Loss: 0.4889\n",
      "Macro Recall: 0.7292 | Loss: 0.5584\n",
      "Macro Recall: 0.7948 | Loss: 0.4877\n",
      "Macro Recall: 0.6637 | Loss: 0.6695\n",
      "Macro Recall: 0.6931 | Loss: 0.5835\n",
      "================================================================================\n",
      "Train Recall: 0.7222542874698018 | Val Recall: 0.5783691226729202\n",
      "Train Loss:   0.5958735207382705 | Val Loss: 0.8937701396644115\n",
      "================================================================================\n"
     ]
    },
    {
     "data": {
      "application/vnd.jupyter.widget-view+json": {
       "model_id": "a6a465d467d94fa0ab87f32143fa3921",
       "version_major": 2,
       "version_minor": 0
      },
      "text/plain": [
       "Train Epoch 1:   0%|          | 0/357 [00:00<?, ?it/s]"
      ]
     },
     "metadata": {},
     "output_type": "display_data"
    },
    {
     "name": "stdout",
     "output_type": "stream",
     "text": [
      "Macro Recall: 0.7482 | Loss: 0.5228\n",
      "Macro Recall: 0.7470 | Loss: 0.4708\n",
      "Macro Recall: 0.7672 | Loss: 0.5208\n",
      "Macro Recall: 0.7301 | Loss: 0.6854\n",
      "Macro Recall: 0.7573 | Loss: 0.5903\n",
      "Macro Recall: 0.7312 | Loss: 0.5823\n",
      "================================================================================\n",
      "Train Recall: 0.7227410157242319 | Val Recall: 0.5694498305257799\n",
      "Train Loss:   0.5955523467865311 | Val Loss: 0.8987070210278034\n",
      "================================================================================\n"
     ]
    },
    {
     "data": {
      "application/vnd.jupyter.widget-view+json": {
       "model_id": "cddab9270bfc4449939560b432ae2802",
       "version_major": 2,
       "version_minor": 0
      },
      "text/plain": [
       "Train Epoch 2:   0%|          | 0/357 [00:00<?, ?it/s]"
      ]
     },
     "metadata": {},
     "output_type": "display_data"
    },
    {
     "name": "stdout",
     "output_type": "stream",
     "text": [
      "Macro Recall: 0.6867 | Loss: 0.5902\n",
      "Macro Recall: 0.7340 | Loss: 0.5473\n",
      "Macro Recall: 0.7872 | Loss: 0.4877\n",
      "Macro Recall: 0.7339 | Loss: 0.5537\n",
      "Macro Recall: 0.7799 | Loss: 0.4626\n",
      "Macro Recall: 0.6400 | Loss: 0.6486\n",
      "================================================================================\n",
      "Train Recall: 0.7263524601657144 | Val Recall: 0.5618541093224637\n",
      "Train Loss:   0.5896269705783085 | Val Loss: 0.9086225815117359\n",
      "================================================================================\n"
     ]
    },
    {
     "data": {
      "application/vnd.jupyter.widget-view+json": {
       "model_id": "3307b8ff03e94ae4a17ea393656fafeb",
       "version_major": 2,
       "version_minor": 0
      },
      "text/plain": [
       "Train Epoch 3:   0%|          | 0/357 [00:00<?, ?it/s]"
      ]
     },
     "metadata": {},
     "output_type": "display_data"
    },
    {
     "name": "stdout",
     "output_type": "stream",
     "text": [
      "Macro Recall: 0.6921 | Loss: 0.5278\n",
      "Macro Recall: 0.7075 | Loss: 0.5849\n",
      "Macro Recall: 0.6799 | Loss: 0.6431\n",
      "Macro Recall: 0.6951 | Loss: 0.6491\n",
      "Macro Recall: 0.7230 | Loss: 0.5186\n",
      "Macro Recall: 0.7845 | Loss: 0.5962\n",
      "================================================================================\n",
      "Train Recall: 0.7314144413241598 | Val Recall: 0.5702282949118392\n",
      "Train Loss:   0.583167428562955 | Val Loss: 0.9338757544755936\n",
      "================================================================================\n"
     ]
    },
    {
     "data": {
      "application/vnd.jupyter.widget-view+json": {
       "model_id": "ca12add249d94853b7a1f2b87679b3dd",
       "version_major": 2,
       "version_minor": 0
      },
      "text/plain": [
       "Train Epoch 4:   0%|          | 0/357 [00:00<?, ?it/s]"
      ]
     },
     "metadata": {},
     "output_type": "display_data"
    },
    {
     "name": "stdout",
     "output_type": "stream",
     "text": [
      "Macro Recall: 0.7559 | Loss: 0.5504\n",
      "Macro Recall: 0.7135 | Loss: 0.5736\n",
      "Macro Recall: 0.7965 | Loss: 0.5482\n",
      "Macro Recall: 0.7737 | Loss: 0.4943\n",
      "Macro Recall: 0.7538 | Loss: 0.5143\n",
      "Macro Recall: 0.7347 | Loss: 0.6324\n",
      "================================================================================\n",
      "Train Recall: 0.7392948673019144 | Val Recall: 0.5598255471673194\n",
      "Train Loss:   0.5708809673619204 | Val Loss: 0.969649001955986\n",
      "================================================================================\n"
     ]
    },
    {
     "data": {
      "application/vnd.jupyter.widget-view+json": {
       "model_id": "8433f6a86a054d1cb9eac47afc34ff15",
       "version_major": 2,
       "version_minor": 0
      },
      "text/plain": [
       "Train Epoch 5:   0%|          | 0/357 [00:00<?, ?it/s]"
      ]
     },
     "metadata": {},
     "output_type": "display_data"
    },
    {
     "name": "stdout",
     "output_type": "stream",
     "text": [
      "Macro Recall: 0.8445 | Loss: 0.4704\n",
      "Macro Recall: 0.8106 | Loss: 0.5158\n",
      "Macro Recall: 0.7773 | Loss: 0.5068\n",
      "Macro Recall: 0.7323 | Loss: 0.4639\n",
      "Macro Recall: 0.7387 | Loss: 0.5516\n",
      "Macro Recall: 0.7173 | Loss: 0.6142\n",
      "================================================================================\n",
      "Train Recall: 0.7488325507079723 | Val Recall: 0.5678088905937008\n",
      "Train Loss:   0.5524403551379505 | Val Loss: 0.9772221222519875\n",
      "================================================================================\n"
     ]
    },
    {
     "data": {
      "application/vnd.jupyter.widget-view+json": {
       "model_id": "c1823ad53ea543b797a70177302591dc",
       "version_major": 2,
       "version_minor": 0
      },
      "text/plain": [
       "Train Epoch 6:   0%|          | 0/357 [00:00<?, ?it/s]"
      ]
     },
     "metadata": {},
     "output_type": "display_data"
    },
    {
     "name": "stdout",
     "output_type": "stream",
     "text": [
      "Macro Recall: 0.7900 | Loss: 0.5943\n",
      "Macro Recall: 0.7829 | Loss: 0.4443\n",
      "Macro Recall: 0.8218 | Loss: 0.4750\n",
      "Macro Recall: 0.8071 | Loss: 0.4673\n",
      "Macro Recall: 0.7609 | Loss: 0.5798\n",
      "Macro Recall: 0.7081 | Loss: 0.5816\n",
      "================================================================================\n",
      "Train Recall: 0.7578751356897246 | Val Recall: 0.5715332487484387\n",
      "Train Loss:   0.533456915733861 | Val Loss: 0.9732252210378647\n",
      "================================================================================\n"
     ]
    },
    {
     "data": {
      "application/vnd.jupyter.widget-view+json": {
       "model_id": "972940f5a71040969b068e03ac529d95",
       "version_major": 2,
       "version_minor": 0
      },
      "text/plain": [
       "Train Epoch 7:   0%|          | 0/357 [00:00<?, ?it/s]"
      ]
     },
     "metadata": {},
     "output_type": "display_data"
    },
    {
     "name": "stdout",
     "output_type": "stream",
     "text": [
      "Macro Recall: 0.8331 | Loss: 0.4781\n",
      "Macro Recall: 0.7897 | Loss: 0.4474\n",
      "Macro Recall: 0.7707 | Loss: 0.5443\n",
      "Macro Recall: 0.8182 | Loss: 0.4855\n",
      "Macro Recall: 0.8057 | Loss: 0.5434\n",
      "Macro Recall: 0.6855 | Loss: 0.6372\n",
      "================================================================================\n",
      "Train Recall: 0.77083445028148 | Val Recall: 0.5549722195291815\n",
      "Train Loss:   0.5146779551559469 | Val Loss: 1.0257541984319687\n",
      "================================================================================\n"
     ]
    },
    {
     "data": {
      "application/vnd.jupyter.widget-view+json": {
       "model_id": "f94cae9346f54362b2ac2a0c24318141",
       "version_major": 2,
       "version_minor": 0
      },
      "text/plain": [
       "Train Epoch 8:   0%|          | 0/357 [00:00<?, ?it/s]"
      ]
     },
     "metadata": {},
     "output_type": "display_data"
    },
    {
     "name": "stdout",
     "output_type": "stream",
     "text": [
      "Macro Recall: 0.7940 | Loss: 0.4570\n",
      "Macro Recall: 0.8460 | Loss: 0.3909\n",
      "Macro Recall: 0.8178 | Loss: 0.4544\n",
      "Macro Recall: 0.7673 | Loss: 0.5412\n",
      "Macro Recall: 0.8319 | Loss: 0.4592\n",
      "Macro Recall: 0.7850 | Loss: 0.5135\n",
      "================================================================================\n",
      "Train Recall: 0.7807107868203533 | Val Recall: 0.5582354822861152\n",
      "Train Loss:   0.4981564911139779 | Val Loss: 1.0450151711702347\n",
      "================================================================================\n"
     ]
    },
    {
     "data": {
      "application/vnd.jupyter.widget-view+json": {
       "model_id": "4971523c4a73416798525cd3551e6295",
       "version_major": 2,
       "version_minor": 0
      },
      "text/plain": [
       "Train Epoch 9:   0%|          | 0/357 [00:00<?, ?it/s]"
      ]
     },
     "metadata": {},
     "output_type": "display_data"
    },
    {
     "name": "stdout",
     "output_type": "stream",
     "text": [
      "Macro Recall: 0.8077 | Loss: 0.4640\n",
      "Macro Recall: 0.7381 | Loss: 0.5459\n",
      "Macro Recall: 0.8009 | Loss: 0.5154\n",
      "Macro Recall: 0.8014 | Loss: 0.4318\n",
      "Macro Recall: 0.8799 | Loss: 0.4055\n",
      "Macro Recall: 0.7781 | Loss: 0.4369\n",
      "================================================================================\n",
      "Train Recall: 0.7888682048497432 | Val Recall: 0.573706356934205\n",
      "Train Loss:   0.48247334519688156 | Val Loss: 1.0920395851135254\n",
      "================================================================================\n"
     ]
    },
    {
     "data": {
      "application/vnd.jupyter.widget-view+json": {
       "model_id": "baea12cd8a62438185e98022b7425df5",
       "version_major": 2,
       "version_minor": 0
      },
      "text/plain": [
       "Train Epoch 10:   0%|          | 0/357 [00:00<?, ?it/s]"
      ]
     },
     "metadata": {},
     "output_type": "display_data"
    },
    {
     "name": "stdout",
     "output_type": "stream",
     "text": [
      "Macro Recall: 0.7819 | Loss: 0.4676\n",
      "Macro Recall: 0.8422 | Loss: 0.4015\n",
      "Macro Recall: 0.8111 | Loss: 0.4248\n",
      "Macro Recall: 0.7862 | Loss: 0.5513\n",
      "Macro Recall: 0.7018 | Loss: 0.5499\n",
      "Macro Recall: 0.8135 | Loss: 0.4711\n",
      "================================================================================\n",
      "Train Recall: 0.7944935597604896 | Val Recall: 0.5694053953547624\n",
      "Train Loss:   0.46672896644314465 | Val Loss: 1.1065258495509624\n",
      "================================================================================\n"
     ]
    },
    {
     "data": {
      "application/vnd.jupyter.widget-view+json": {
       "model_id": "dd274a89f80348448839ebf8b597cb49",
       "version_major": 2,
       "version_minor": 0
      },
      "text/plain": [
       "Train Epoch 11:   0%|          | 0/357 [00:00<?, ?it/s]"
      ]
     },
     "metadata": {},
     "output_type": "display_data"
    },
    {
     "name": "stdout",
     "output_type": "stream",
     "text": [
      "Macro Recall: 0.9055 | Loss: 0.3394\n",
      "Macro Recall: 0.8113 | Loss: 0.4746\n",
      "Macro Recall: 0.6709 | Loss: 0.5427\n",
      "Macro Recall: 0.8425 | Loss: 0.3663\n",
      "Macro Recall: 0.7653 | Loss: 0.5388\n",
      "Macro Recall: 0.8557 | Loss: 0.3927\n",
      "================================================================================\n",
      "Train Recall: 0.7992947527732377 | Val Recall: 0.5593539137842934\n",
      "Train Loss:   0.458872696431745 | Val Loss: 1.1473278924822807\n",
      "================================================================================\n"
     ]
    },
    {
     "data": {
      "application/vnd.jupyter.widget-view+json": {
       "model_id": "3aa42a31ddb44965a1980fea365964e6",
       "version_major": 2,
       "version_minor": 0
      },
      "text/plain": [
       "Train Epoch 12:   0%|          | 0/357 [00:00<?, ?it/s]"
      ]
     },
     "metadata": {},
     "output_type": "display_data"
    },
    {
     "name": "stdout",
     "output_type": "stream",
     "text": [
      "Macro Recall: 0.8688 | Loss: 0.3308\n",
      "Macro Recall: 0.8126 | Loss: 0.3969\n",
      "Macro Recall: 0.7974 | Loss: 0.4699\n",
      "Macro Recall: 0.8234 | Loss: 0.4078\n",
      "Macro Recall: 0.8149 | Loss: 0.3979\n",
      "Macro Recall: 0.7806 | Loss: 0.5387\n",
      "================================================================================\n",
      "Train Recall: 0.8034676759022915 | Val Recall: 0.5574925543279974\n",
      "Train Loss:   0.44890326720659807 | Val Loss: 1.1460245065391064\n",
      "================================================================================\n"
     ]
    },
    {
     "data": {
      "application/vnd.jupyter.widget-view+json": {
       "model_id": "669e3aec105c4f1cbb74934d9574018b",
       "version_major": 2,
       "version_minor": 0
      },
      "text/plain": [
       "Train Epoch 13:   0%|          | 0/357 [00:00<?, ?it/s]"
      ]
     },
     "metadata": {},
     "output_type": "display_data"
    },
    {
     "name": "stdout",
     "output_type": "stream",
     "text": [
      "Macro Recall: 0.8224 | Loss: 0.4130\n",
      "Macro Recall: 0.8280 | Loss: 0.4384\n",
      "Macro Recall: 0.7239 | Loss: 0.5226\n",
      "Macro Recall: 0.8196 | Loss: 0.4001\n",
      "Macro Recall: 0.7561 | Loss: 0.4639\n",
      "Macro Recall: 0.8327 | Loss: 0.4349\n",
      "================================================================================\n",
      "Train Recall: 0.8062532056483726 | Val Recall: 0.5517969489488477\n",
      "Train Loss:   0.44574729902069776 | Val Loss: 1.1422088965773582\n",
      "================================================================================\n"
     ]
    },
    {
     "data": {
      "application/vnd.jupyter.widget-view+json": {
       "model_id": "e12ab7194f4e444faa324fd859683a35",
       "version_major": 2,
       "version_minor": 0
      },
      "text/plain": [
       "Train Epoch 14:   0%|          | 0/357 [00:00<?, ?it/s]"
      ]
     },
     "metadata": {},
     "output_type": "display_data"
    },
    {
     "name": "stdout",
     "output_type": "stream",
     "text": [
      "Macro Recall: 0.8095 | Loss: 0.4445\n",
      "Macro Recall: 0.8742 | Loss: 0.3574\n",
      "Macro Recall: 0.7819 | Loss: 0.5080\n",
      "Macro Recall: 0.7840 | Loss: 0.4658\n",
      "Macro Recall: 0.8296 | Loss: 0.3482\n",
      "Macro Recall: 0.8036 | Loss: 0.5422\n",
      "================================================================================\n",
      "Train Recall: 0.8081457011673017 | Val Recall: 0.557209902146611\n",
      "Train Loss:   0.44476676680126775 | Val Loss: 1.1629686951637268\n",
      "================================================================================\n"
     ]
    },
    {
     "data": {
      "application/vnd.jupyter.widget-view+json": {
       "model_id": "148c1f4d714445b2aea14f4afd3d8782",
       "version_major": 2,
       "version_minor": 0
      },
      "text/plain": [
       "Testing...:   0%|          | 0/96 [00:00<?, ?it/s]"
      ]
     },
     "metadata": {},
     "output_type": "display_data"
    },
    {
     "name": "stdout",
     "output_type": "stream",
     "text": [
      "++++++++++++++++++++++++++++++++++++++++++++++++++++++++++++++++++++++++++++++++\n",
      "Test Recall: 0.5106\n",
      "++++++++++++++++++++++++++++++++++++++++++++++++++++++++++++++++++++++++++++++++\n"
     ]
    }
   ],
   "source": [
    "NUM_EPOCHS = 15  # Задайте количество эпох\n",
    "log_frequency = 70\n",
    "train_loss = []\n",
    "train_recall = []\n",
    "val_loss = []\n",
    "val_recall = []\n",
    "\n",
    "warmup_ratio = 0.3\n",
    "num_training_steps = len(train_loader) * NUM_EPOCHS\n",
    "num_warmup = int(round(num_training_steps * warmup_ratio))\n",
    "\n",
    "lr_sched = get_cosine_schedule_with_warmup(optimizer=optim, num_training_steps=num_training_steps, num_warmup_steps=num_warmup)\n",
    "\n",
    "for n_epoch in range(NUM_EPOCHS):\n",
    "    \n",
    "    y_pred = []\n",
    "    y_true = []\n",
    "    epoch_loss = []\n",
    "    for i, (x, y) in enumerate(tqdm(train_loader, desc=f\"Train Epoch {n_epoch}\")):\n",
    "        x = x.to(device)\n",
    "        y = y.to(device)\n",
    "        logits = model(x)\n",
    "        loss_value = loss(logits, y)\n",
    "        loss_value.backward()\n",
    "        optim.step()\n",
    "        lr_sched.step()\n",
    "        optim.zero_grad()\n",
    "        \n",
    "        epoch_loss.append(loss_value.item())\n",
    "        \n",
    "        with torch.no_grad():\n",
    "            y_pred_batch = torch.argmax(torch.softmax(logits, -1), -1)\n",
    "            y_pred_batch = y_pred_batch.detach().cpu().numpy()\n",
    "            y_true_batch = y.detach().cpu().numpy()\n",
    "            \n",
    "            y_pred += list(y_pred_batch)\n",
    "            y_true += list(y_true_batch)\n",
    "            if i % log_frequency == 0:\n",
    "                recall = recall_score(y_true_batch, y_pred_batch, average='macro')\n",
    "                print(f\"Macro Recall: {recall:.4f} | Loss: {loss_value.item():.4f}\")\n",
    "                \n",
    "    train_loss.append(np.mean(epoch_loss))\n",
    "    ep_train_recall = recall_score(y_true, y_pred, average='macro')\n",
    "    train_recall.append(ep_train_recall)\n",
    "\n",
    "    # validation\n",
    "    epoch_val_loss = []\n",
    "    with torch.no_grad():\n",
    "        y_pred = []\n",
    "        y_true = []\n",
    "        for x, y in valid_loader:\n",
    "            x = x.to(device)\n",
    "            y = y.to(device)\n",
    "            logits = model(x)\n",
    "            epoch_val_loss.append(loss(logits, y).item())\n",
    "            y_pred_batch = torch.argmax(torch.softmax(logits, -1), -1).cpu().numpy()\n",
    "            y_true_batch = y.cpu().numpy()\n",
    "            \n",
    "            y_pred += list(y_pred_batch)\n",
    "            y_true += list(y_true_batch)\n",
    "            \n",
    "        ep_val_recall = recall_score(y_true, y_pred, average='macro')\n",
    "        val_recall.append(ep_val_recall)\n",
    "        val_loss.append(np.mean(epoch_val_loss))\n",
    "    \n",
    "    print(\"==\"*40)\n",
    "    print(f\"Train Recall: {ep_train_recall:^5} | Val Recall: {ep_val_recall:^5}\")\n",
    "    print(f\"Train Loss:   {np.mean(epoch_loss):^5} | Val Loss: {np.mean(epoch_val_loss):^5}\")\n",
    "    print(\"==\"*40)\n",
    "    \n",
    "# test\n",
    "y_pred = []\n",
    "y_true = []\n",
    "with torch.no_grad():\n",
    "    for x, y in tqdm(test_loader, desc='Testing...'):\n",
    "        x = x.to(device)\n",
    "        y = y.to(device)\n",
    "        logits = model(x)\n",
    "        y_pred_batch = torch.argmax(torch.softmax(logits, -1), -1).cpu().numpy()\n",
    "        y_true_batch = y.cpu().numpy()\n",
    "\n",
    "        y_pred += list(y_pred_batch)\n",
    "        y_true += list(y_true_batch)\n",
    "        \n",
    "test_recall = recall_score(y_true, y_pred, average='macro')\n",
    "print(\"++\"*40)\n",
    "print(f\"Test Recall: {test_recall:.4f}\")\n",
    "print(\"++\"*40)"
   ]
  },
  {
   "cell_type": "code",
   "execution_count": 61,
   "metadata": {},
   "outputs": [
    {
     "name": "stdout",
     "output_type": "stream",
     "text": [
      "              precision    recall  f1-score   support\n",
      "\n",
      "    negative       0.64      0.28      0.39      3972\n",
      "     neutral       0.57      0.55      0.56      5937\n",
      "    positive       0.35      0.70      0.46      2375\n",
      "\n",
      "    accuracy                           0.49     12284\n",
      "   macro avg       0.52      0.51      0.47     12284\n",
      "weighted avg       0.55      0.49      0.49     12284\n",
      "\n"
     ]
    }
   ],
   "source": [
    "print(classification_report(y_true, y_pred, target_names=train_dataset.features['label'].names))"
   ]
  },
  {
   "cell_type": "code",
   "execution_count": 62,
   "metadata": {},
   "outputs": [
    {
     "data": {
      "image/png": "[encoded data removed]",
      "text/plain": [
       "<Figure size 432x288 with 2 Axes>"
      ]
     },
     "metadata": {
      "needs_background": "light"
     },
     "output_type": "display_data"
    }
   ],
   "source": [
    "cm = ConfusionMatrixDisplay.from_predictions(y_true, y_pred, display_labels=train_dataset.features['label'].names)"
   ]
  },
  {
   "cell_type": "markdown",
   "metadata": {},
   "source": [
    "# Выводы\n",
    "Напишите небольшой отчет о проделанной работе. Что удалось, в чем не уверены, что делать дальше."
   ]
  },
  {
   "cell_type": "markdown",
   "metadata": {},
   "source": [
    "- Получилось сделать модель с предлагаемой архитектурой\n",
    "- Получилось реализовать процесс предобработки текста и процесс обучения\n",
    "- Модель не позволяет добится каких-то серьезных результатов и переобучается несмотря на применение dropout и batchnorm\n",
    "- Качество работы модели в общем случае не зависит от глубины MLP-компоненты, достаточно и одного слоя внутри + выходного слоя\n",
    "- Чаще всего модель путает нейтральный сентимент с позитивным, негативный с нейтральным и негативный с позитивным\n",
    "- Возможно стоит добавить способ учитывать контекст или позицию токенов(можно попробовать добавить позиционные эмбеддинги как в трансформерах) или добавить кастомные веса для классов в лосс-функцию.\n",
    "- Ввиду того что в токенизированном тексте полно UNK-токенов, то думаю стоит добавить посимвольные эмбеддинги + посимвольную cnn(как реализовано в elmo в allennlp)\n",
    "- С другой стороны это очень простая модель, мб не стоит ожидать от нее хороших результатов.\n",
    "- Так-же возможны пробелы в разметке нейтрального и негативного классов, в то время как позитивный класс размечен хорошо и модель реже всего путает его с каким-то другим классом"
   ]
  },
  {
   "cell_type": "code",
   "execution_count": null,
   "metadata": {},
   "outputs": [],
   "source": []
  }
 ],
 "metadata": {
  "kernelspec": {
   "display_name": "Python 3",
   "language": "python",
   "name": "python3"
  },
  "language_info": {
   "codemirror_mode": {
    "name": "ipython",
    "version": 3
   },
   "file_extension": ".py",
   "mimetype": "text/x-python",
   "name": "python",
   "nbconvert_exporter": "python",
   "pygments_lexer": "ipython3",
   "version": "3.8.5"
  }
 },
 "nbformat": 4,
 "nbformat_minor": 5
}
